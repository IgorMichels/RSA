{
 "cells": [
  {
   "cell_type": "code",
   "execution_count": 1,
   "id": "c9b81e68",
   "metadata": {},
   "outputs": [],
   "source": [
    "import random as rd\n",
    "import numpy as np\n",
    "\n",
    "from glob import glob"
   ]
  },
  {
   "cell_type": "code",
   "execution_count": 2,
   "id": "c27201f6",
   "metadata": {},
   "outputs": [],
   "source": [
    "def euclid_extended(a, b):\n",
    "    '''\n",
    "    Realiza o cálculo do mdc\n",
    "    entre a e b, retornando\n",
    "    o mdc e x e y tais que\n",
    "    ax + by = mdc(a, b).\n",
    "    '''\n",
    "    inverted = False\n",
    "    if b > a:\n",
    "        a, b = b, a\n",
    "        inverted = True\n",
    "        \n",
    "    \n",
    "    table = np.array([[a, b], [1, 0], [0, 1]])\n",
    "    iteration = 0\n",
    "    while table[0, (iteration + 1) % 2] != 0:\n",
    "        a, b = table[0, iteration % 2], table[0, (iteration + 1) % 2]\n",
    "        q = a // b\n",
    "        r = a % b\n",
    "        table[:, iteration % 2] -= table[:, (iteration + 1) % 2] * q\n",
    "        iteration += 1\n",
    "        \n",
    "    lcd, x, y = table[:, iteration % 2]\n",
    "    \n",
    "    if inverted:\n",
    "        return lcd, y, x\n",
    "    else:\n",
    "        return lcd, x, y"
   ]
  },
  {
   "cell_type": "code",
   "execution_count": 3,
   "id": "e23367f8",
   "metadata": {},
   "outputs": [],
   "source": [
    "def is_prime(n):\n",
    "    '''\n",
    "    Recebe um número e verifica\n",
    "    se ele é primo\n",
    "    '''\n",
    "    if n == 2:\n",
    "        return True\n",
    "    \n",
    "    if n < 2 or n % 2 == 0:\n",
    "        return False\n",
    "    \n",
    "    for i in range(3, int(n**(0.5)) + 1, 2):\n",
    "        if n % i == 0:\n",
    "            return False\n",
    "        \n",
    "    return True"
   ]
  },
  {
   "cell_type": "code",
   "execution_count": 4,
   "id": "27755800",
   "metadata": {},
   "outputs": [
    {
     "data": {
      "text/plain": [
       "array([10007, 10009, 10037, ..., 19991, 19993, 19997])"
      ]
     },
     "execution_count": 4,
     "metadata": {},
     "output_type": "execute_result"
    }
   ],
   "source": [
    "# Buscando os primos de 10.000 até\n",
    "# 19.999\n",
    "\n",
    "if 'primos.npy' not in glob('*.npy'):\n",
    "    primes = []\n",
    "    a = 10000\n",
    "    for i in range(5000):\n",
    "        if is_prime(a + 2 * i + 1):\n",
    "            primes.append(a + 2 * i + 1)\n",
    "\n",
    "    primes = np.array(primes)\n",
    "    with open('primos.npy', 'wb') as f:\n",
    "        np.save(f, primos)\n",
    "\n",
    "else:\n",
    "    primes = np.load('primos.npy')\n",
    "\n",
    "primes"
   ]
  },
  {
   "cell_type": "code",
   "execution_count": 5,
   "id": "210552ef",
   "metadata": {},
   "outputs": [],
   "source": [
    "def choose_parameters(primes):\n",
    "    '''\n",
    "    Recebe um array de primos e\n",
    "    retorna dois primos p e q,\n",
    "    phi(n) e números e e d de\n",
    "    modo que de = 1 (mod phi(n)),\n",
    "    onde n = p*q\n",
    "    '''\n",
    "    \n",
    "    rd.shuffle(primes)\n",
    "    p, q = primes[:2]\n",
    "    phi_n = (p - 1) * (q - 1)\n",
    "    \n",
    "    e = 2\n",
    "    lcd, _, d = euclid_extended(phi_n, e)\n",
    "    lcd2, _, _ = euclid_extended(1114111, e)\n",
    "    while lcd != 1 or lcd2 != 1:\n",
    "        e = rd.randint(3, phi_n)\n",
    "        lcd, _, d = euclid_extended(phi_n, e)\n",
    "        lcd2, _, _ = euclid_extended(1114111, e)\n",
    "    \n",
    "    return p, q, phi_n, e, d, lcd"
   ]
  },
  {
   "cell_type": "code",
   "execution_count": 6,
   "id": "8bd21177",
   "metadata": {},
   "outputs": [
    {
     "name": "stdout",
     "output_type": "stream",
     "text": [
      "1 43192767\n"
     ]
    }
   ],
   "source": [
    "p, q, phi_n, e, d, mdc = choose_parameters(primes)\n",
    "print((e * d) % phi_n, e)"
   ]
  },
  {
   "cell_type": "code",
   "execution_count": 7,
   "id": "539f3dff",
   "metadata": {},
   "outputs": [
    {
     "name": "stdout",
     "output_type": "stream",
     "text": [
      "000007200001010000108000010800001110000032000008700001110000114000010800001000000033\n",
      "Hello World!\n"
     ]
    }
   ],
   "source": [
    "message = 'Hello World!'\n",
    "\n",
    "def to_number(message):\n",
    "    m = ''\n",
    "    for letter in message:\n",
    "        m += str(ord(letter)).zfill(7)\n",
    "        \n",
    "    return m\n",
    "\n",
    "def to_text(m):\n",
    "    message = ''\n",
    "    for i in range(int(len(m) / 7)):\n",
    "        message += chr(int(m[7 * i : 7 * i + 7]))\n",
    "        \n",
    "    return message\n",
    "\n",
    "m = to_number(message)\n",
    "message = to_text(m)\n",
    "print(m)\n",
    "print(message)"
   ]
  },
  {
   "cell_type": "code",
   "execution_count": 8,
   "id": "90be14a2",
   "metadata": {},
   "outputs": [],
   "source": [
    "# def encrypt(message, phi_n, e):\n",
    "#     phi_n = int(phi_n)\n",
    "#     m = to_number(message)\n",
    "#     encrypted = ''\n",
    "#     i = 0\n",
    "#     number = ''\n",
    "#     letters = 0\n",
    "#     while i < len(m):\n",
    "#         if int(number + m[i:i + 7]) < phi_n:\n",
    "#             number += m[i:i + 7]\n",
    "#             letters += 1\n",
    "#             i += 7\n",
    "#         else:\n",
    "#             number = int(number)\n",
    "#             number = pow(number, e, phi_n)\n",
    "#             number = str(number).zfill(letters * 7)\n",
    "#             encrypted += to_text(number)\n",
    "#             number = ''\n",
    "#             letters = 0\n",
    "            \n",
    "#     return encrypted\n",
    "\n",
    "# def decrypt(encrypted, phi_n, d):\n",
    "#     d = int(d)\n",
    "#     phi_n = int(phi_n)\n",
    "#     m = to_number(encrypted)\n",
    "#     m = int(m)\n",
    "#     m = pow(m, d, phi_n)\n",
    "#     m = str(m)\n",
    "#     message = to_text(m)\n",
    "#     return message\n",
    "\n",
    "# m = encrypt(message, phi_n, e)\n",
    "# message = decrypt(m, phi_n, d)\n",
    "# print(m)\n",
    "# print(message)"
   ]
  },
  {
   "cell_type": "code",
   "execution_count": 9,
   "id": "fd29de71",
   "metadata": {},
   "outputs": [
    {
     "data": {
      "text/plain": [
       "(1, 100000000000000003, 100000000000000013)"
      ]
     },
     "execution_count": 9,
     "metadata": {},
     "output_type": "execute_result"
    }
   ],
   "source": [
    "p, q = None, None\n",
    "for i in range(100000000000000000, 2000000000000000000000000000000000000):\n",
    "    if is_prime(i):\n",
    "        if p == None:\n",
    "            p = i\n",
    "        else:\n",
    "            q = i\n",
    "            break\n",
    "            \n",
    "phi_n = (p - 1) * (q - 1)\n",
    "e = 2\n",
    "lcd, _, d = euclid_extended(phi_n, e)\n",
    "while lcd != 1:\n",
    "    e = rd.randint(3, phi_n)\n",
    "    lcd, _, d = euclid_extended(phi_n, e)\n",
    "\n",
    "(phi_n * _ + e * d) % phi_n, p, q"
   ]
  },
  {
   "cell_type": "code",
   "execution_count": null,
   "id": "da4ab264",
   "metadata": {},
   "outputs": [],
   "source": []
  }
 ],
 "metadata": {
  "kernelspec": {
   "display_name": "Python 3 (ipykernel)",
   "language": "python",
   "name": "python3"
  },
  "language_info": {
   "codemirror_mode": {
    "name": "ipython",
    "version": 3
   },
   "file_extension": ".py",
   "mimetype": "text/x-python",
   "name": "python",
   "nbconvert_exporter": "python",
   "pygments_lexer": "ipython3",
   "version": "3.8.10"
  }
 },
 "nbformat": 4,
 "nbformat_minor": 5
}
