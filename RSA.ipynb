{
 "cells": [
  {
   "cell_type": "code",
   "execution_count": 1,
   "id": "c9b81e68",
   "metadata": {},
   "outputs": [],
   "source": [
    "import random as rd\n",
    "import numpy as np\n",
    "\n",
    "from glob import glob"
   ]
  },
  {
   "cell_type": "code",
   "execution_count": 2,
   "id": "e23367f8",
   "metadata": {},
   "outputs": [],
   "source": [
    "def euclid_extended(a, b):\n",
    "    '''\n",
    "    Realiza o cálculo do mdc\n",
    "    entre a e b, retornando\n",
    "    o mdc e x e y tais que\n",
    "    ax + by = mdc(a, b).\n",
    "    '''\n",
    "    inverted = False\n",
    "    if b > a:\n",
    "        a, b = b, a\n",
    "        inverted = True\n",
    "        \n",
    "    \n",
    "    table = np.array([[a, b], [1, 0], [0, 1]])\n",
    "    iteration = 0\n",
    "    while table[0, (iteration + 1) % 2] != 0:\n",
    "        a, b = table[0, iteration % 2], table[0, (iteration + 1) % 2]\n",
    "        q = a // b\n",
    "        r = a % b\n",
    "        table[:, iteration % 2] -= table[:, (iteration + 1) % 2] * q\n",
    "        iteration += 1\n",
    "        \n",
    "    lcd, x, y = table[:, iteration % 2]\n",
    "    \n",
    "    if inverted:\n",
    "        return lcd, y, x\n",
    "    else:\n",
    "        return lcd, x, y\n",
    "\n",
    "def is_prime(n):\n",
    "    '''\n",
    "    Recebe um número e verifica\n",
    "    se ele é primo\n",
    "    '''\n",
    "    if n == 2:\n",
    "        return True\n",
    "    \n",
    "    if n < 2 or n % 2 == 0:\n",
    "        return False\n",
    "    \n",
    "    for i in range(3, int(n**(0.5)) + 1, 2):\n",
    "        if n % i == 0:\n",
    "            return False\n",
    "        \n",
    "    return True"
   ]
  },
  {
   "cell_type": "code",
   "execution_count": 3,
   "id": "27755800",
   "metadata": {},
   "outputs": [
    {
     "data": {
      "text/plain": [
       "array([10007, 10009, 10037, ..., 19991, 19993, 19997])"
      ]
     },
     "execution_count": 3,
     "metadata": {},
     "output_type": "execute_result"
    }
   ],
   "source": [
    "# Buscando os primos de 10.000 até\n",
    "# 19.999\n",
    "\n",
    "if 'primos.npy' not in glob('*.npy'):\n",
    "    primes = []\n",
    "    a = 10000\n",
    "    for i in range(5000):\n",
    "        if is_prime(a + 2 * i + 1):\n",
    "            primes.append(a + 2 * i + 1)\n",
    "\n",
    "    primes = np.array(primes)\n",
    "    with open('primos.npy', 'wb') as f:\n",
    "        np.save(f, primos)\n",
    "\n",
    "else:\n",
    "    primes = np.load('primos.npy')\n",
    "\n",
    "primes"
   ]
  },
  {
   "cell_type": "code",
   "execution_count": 4,
   "id": "539f3dff",
   "metadata": {},
   "outputs": [],
   "source": [
    "def choose_parameters(primes):\n",
    "    '''\n",
    "    Recebe um array de primos e\n",
    "    retorna dois primos p e q,\n",
    "    phi(n) e números e e d de\n",
    "    modo que de = 1 (mod phi(n)),\n",
    "    onde n = p*q\n",
    "    '''\n",
    "    \n",
    "    rd.shuffle(primes)\n",
    "    p, q = primes[:2]\n",
    "    phi_n = (p - 1) * (q - 1)\n",
    "    \n",
    "    e = 2\n",
    "    lcd, _, d = euclid_extended(phi_n, e)\n",
    "    while lcd != 1:\n",
    "        e = rd.randint(3, phi_n)\n",
    "        lcd, _, d = euclid_extended(phi_n, e)\n",
    "    \n",
    "    return p, q, phi_n, e, d\n",
    "\n",
    "def str2int(message):\n",
    "    exp = 1\n",
    "    number = 0\n",
    "    message = message[::-1]\n",
    "    for i in range(len(message)):\n",
    "        number += ord(message[i]) * exp\n",
    "        exp *= 256\n",
    "    return number\n",
    "\n",
    "def int2str(number):\n",
    "    message = ''\n",
    "    while number != 0:\n",
    "        temp = number % 256\n",
    "        message += chr(temp)\n",
    "        number -= temp\n",
    "        number = number // 256\n",
    "    message = message[::-1]\n",
    "    return message\n",
    "\n",
    "def generate_keys(p, q):\n",
    "    phi_n = (p - 1) * (q - 1)\n",
    "    e = 2\n",
    "    lcd, _, d = euclid_extended(phi_n, e)\n",
    "    while lcd != 1:\n",
    "        e = rd.randint(3, phi_n)\n",
    "        lcd, _, d = euclid_extended(phi_n, e)\n",
    "        \n",
    "    return (phi_n, e), (phi_n, d)\n",
    "\n",
    "def encrypt(message, public_key):\n",
    "    phi_n, e = public_key\n",
    "    phi_n = int(phi_n)\n",
    "    m = str2int(message)\n",
    "    m = (m * e) % phi_n\n",
    "    encrypted = int2str(m)\n",
    "    \n",
    "    return encrypted\n",
    "\n",
    "def decrypt(encrypted, private_key):\n",
    "    phi_n, d = private_key\n",
    "    d = int(d)\n",
    "    phi_n = int(phi_n)\n",
    "    m = str2int(encrypted)\n",
    "    m = (m * d) % phi_n\n",
    "    message = int2str(m)\n",
    "    \n",
    "    return message"
   ]
  },
  {
   "cell_type": "code",
   "execution_count": 5,
   "id": "e88b7c94",
   "metadata": {},
   "outputs": [
    {
     "name": "stdout",
     "output_type": "stream",
     "text": [
      "/ÈÜ0PQ\u001e",
      "f\u0002&ó\u000fºÎ\u001d",
      "z\u0000KàENIËPg3§ò7LÖ¹¯¼6\u001e",
      "9Õ\b~±,ìp¾sEY»}e\u0006³ò\u0019ö\u000b",
      "_^\u0001vBÈ\u0011Þ9¬+¾Ø\u001d",
      "EkÍèï\u001fÿ°8Î6½Aôñæ~<Æh==:5rDÝY#jÝ#ò à\u0003£²WÜS-é\n",
      "Hello World!\n"
     ]
    }
   ],
   "source": [
    "original_message = 'Hello World!'\n",
    "# alguns primos de https://en.wikipedia.org/wiki/Largest_known_prime_number\n",
    "# p, q = 999999000001, 67280421310721\n",
    "# p, q = 100000000000000003, 100000000000000013\n",
    "# p, q = 170141183460469231731687303715884105727, 20988936657440586486151264256610222593863921\n",
    "p, q = 531137992816767098689588206552468627329593117727031923199444138200403559860852242739162502265229285668889329486246501015346579337652707239409519978766587351943831270835393219031728127, 6864797660130609714981900799081393217269435300143305409394463459185543183397656052122559640661454554977296311391480858037121987999716643812574028291115057151\n",
    "\n",
    "public_key, private_key = generate_keys(p, q)\n",
    "m = encrypt(original_message, public_key)\n",
    "message = decrypt(m, private_key)\n",
    "print(m)\n",
    "print(message)"
   ]
  },
  {
   "cell_type": "code",
   "execution_count": 7,
   "id": "44845570",
   "metadata": {},
   "outputs": [],
   "source": [
    "# phi_n, e = public_key\n",
    "# phi_n, d = private_key\n",
    "# print((phi_n * _ + e * d) % phi_n)\n",
    "# print(p, is_prime(p), q, is_prime(q))"
   ]
  },
  {
   "cell_type": "code",
   "execution_count": null,
   "id": "ee3eacc9",
   "metadata": {},
   "outputs": [],
   "source": []
  }
 ],
 "metadata": {
  "kernelspec": {
   "display_name": "Python 3 (ipykernel)",
   "language": "python",
   "name": "python3"
  },
  "language_info": {
   "codemirror_mode": {
    "name": "ipython",
    "version": 3
   },
   "file_extension": ".py",
   "mimetype": "text/x-python",
   "name": "python",
   "nbconvert_exporter": "python",
   "pygments_lexer": "ipython3",
   "version": "3.8.10"
  }
 },
 "nbformat": 4,
 "nbformat_minor": 5
}
