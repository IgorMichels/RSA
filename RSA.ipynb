{
 "cells": [
  {
   "cell_type": "code",
   "execution_count": 1,
   "id": "c9b81e68",
   "metadata": {},
   "outputs": [],
   "source": [
    "import random as rd\n",
    "import numpy as np\n",
    "import binascii\n",
    "\n",
    "from glob import glob"
   ]
  },
  {
   "cell_type": "code",
   "execution_count": 2,
   "id": "c27201f6",
   "metadata": {},
   "outputs": [],
   "source": [
    "def euclid_extended(a, b):\n",
    "    '''\n",
    "    Realiza o cálculo do mdc\n",
    "    entre a e b, retornando\n",
    "    o mdc e x e y tais que\n",
    "    ax + by = mdc(a, b).\n",
    "    '''\n",
    "    inverted = False\n",
    "    if b > a:\n",
    "        a, b = b, a\n",
    "        inverted = True\n",
    "        \n",
    "    \n",
    "    table = np.array([[a, b], [1, 0], [0, 1]])\n",
    "    iteration = 0\n",
    "    while table[0, (iteration + 1) % 2] != 0:\n",
    "        a, b = table[0, iteration % 2], table[0, (iteration + 1) % 2]\n",
    "        q = a // b\n",
    "        r = a % b\n",
    "        table[:, iteration % 2] -= table[:, (iteration + 1) % 2] * q\n",
    "        iteration += 1\n",
    "        \n",
    "    lcd, x, y = table[:, iteration % 2]\n",
    "    \n",
    "    if inverted:\n",
    "        return lcd, y, x\n",
    "    else:\n",
    "        return lcd, x, y"
   ]
  },
  {
   "cell_type": "code",
   "execution_count": 3,
   "id": "e23367f8",
   "metadata": {},
   "outputs": [],
   "source": [
    "def is_prime(n):\n",
    "    '''\n",
    "    Recebe um número e verifica\n",
    "    se ele é primo\n",
    "    '''\n",
    "    if n == 2:\n",
    "        return True\n",
    "    \n",
    "    if n < 2 or n % 2 == 0:\n",
    "        return False\n",
    "    \n",
    "    for i in range(3, int(n**(0.5)) + 1, 2):\n",
    "        if n % i == 0:\n",
    "            return False\n",
    "        \n",
    "    return True"
   ]
  },
  {
   "cell_type": "code",
   "execution_count": 4,
   "id": "27755800",
   "metadata": {},
   "outputs": [
    {
     "data": {
      "text/plain": [
       "array([10007, 10009, 10037, ..., 19991, 19993, 19997])"
      ]
     },
     "execution_count": 4,
     "metadata": {},
     "output_type": "execute_result"
    }
   ],
   "source": [
    "# Buscando os primos de 10.000 até\n",
    "# 19.999\n",
    "\n",
    "if 'primos.npy' not in glob('*.npy'):\n",
    "    primes = []\n",
    "    a = 10000\n",
    "    for i in range(5000):\n",
    "        if is_prime(a + 2 * i + 1):\n",
    "            primes.append(a + 2 * i + 1)\n",
    "\n",
    "    primes = np.array(primes)\n",
    "    with open('primos.npy', 'wb') as f:\n",
    "        np.save(f, primos)\n",
    "\n",
    "else:\n",
    "    primes = np.load('primos.npy')\n",
    "\n",
    "primes"
   ]
  },
  {
   "cell_type": "code",
   "execution_count": 5,
   "id": "210552ef",
   "metadata": {},
   "outputs": [],
   "source": [
    "def choose_parameters(primes):\n",
    "    '''\n",
    "    Recebe um array de primos e\n",
    "    retorna dois primos p e q,\n",
    "    phi(n) e números e e d de\n",
    "    modo que de = 1 (mod phi(n)),\n",
    "    onde n = p*q\n",
    "    '''\n",
    "    \n",
    "    rd.shuffle(primes)\n",
    "    p, q = primes[:2]\n",
    "    phi_n = (p - 1) * (q - 1)\n",
    "    \n",
    "    e = 2\n",
    "    lcd, _, d = euclid_extended(phi_n, e)\n",
    "    lcd2, _, _ = euclid_extended(1114111, e)\n",
    "    while lcd != 1 or lcd2 != 1:\n",
    "        e = rd.randint(3, phi_n)\n",
    "        lcd, _, d = euclid_extended(phi_n, e)\n",
    "        lcd2, _, _ = euclid_extended(1114111, e)\n",
    "    \n",
    "    return p, q, phi_n, e, d, lcd"
   ]
  },
  {
   "cell_type": "code",
   "execution_count": 6,
   "id": "8bd21177",
   "metadata": {},
   "outputs": [
    {
     "name": "stdout",
     "output_type": "stream",
     "text": [
      "1 148881841\n"
     ]
    }
   ],
   "source": [
    "p, q, phi_n, e, d, mdc = choose_parameters(primes)\n",
    "print((e * d) % phi_n, e)"
   ]
  },
  {
   "cell_type": "code",
   "execution_count": 7,
   "id": "539f3dff",
   "metadata": {},
   "outputs": [
    {
     "name": "stdout",
     "output_type": "stream",
     "text": [
      "007201010108010801110032008701110114010801000033\n",
      "Hello World!\n",
      "22405534230753928650781647905\n",
      "Hello World!\n",
      "236347174792598260040102094117559934601249070937025207111779405266977\n",
      "Hello World!\n",
      "22405534230753928650781647905\n",
      "Hello World!\n"
     ]
    }
   ],
   "source": [
    "o_message = 'Hello World!'\n",
    "\n",
    "def to_number(message):\n",
    "    m = ''\n",
    "    for letter in message:\n",
    "        m += str(ord(letter)).zfill(4)\n",
    "        \n",
    "    return m\n",
    "\n",
    "def to_text(m):\n",
    "    message = ''\n",
    "    for i in range(int(len(m) / 4)):\n",
    "        message += chr(int(m[4 * i : 4 * i + 4]))\n",
    "        \n",
    "    return message\n",
    "\n",
    "m = to_number(o_message)\n",
    "message = to_text(m)\n",
    "print(m)\n",
    "print(message)\n",
    "\n",
    "def str2num(string):\n",
    "    return int(binascii.hexlify(string.encode(\"utf-8\")), 16)\n",
    "\n",
    "def num2str(number):\n",
    "    return binascii.unhexlify(format(number, \"x\").encode(\"utf-8\")).decode(\"utf-8\")\n",
    "\n",
    "def numfy(s, max_code = 0x110000):\n",
    "    # 0x110000 is max value of unicode character\n",
    "    number = 0\n",
    "    for e in [ord(c) for c in s]:\n",
    "        number = (number * max_code) + e\n",
    "    return number\n",
    "\n",
    "def denumfy(number, max_code = 0x110000):\n",
    "    l = []\n",
    "    while number != 0:\n",
    "        l.append(chr(number % max_code))\n",
    "        number = number // max_code\n",
    "    return ''.join(reversed(l))\n",
    "\n",
    "m = str2num(o_message)\n",
    "message = num2str(m)\n",
    "print(m)\n",
    "print(message)\n",
    "\n",
    "m = numfy(o_message)\n",
    "message = denumfy(m)\n",
    "print(m)\n",
    "print(message)\n",
    "\n",
    "def ConvertToInt(message):\n",
    "    grd = 1\n",
    "    num = 0\n",
    "    message = message [::-1]\n",
    "    for i in range(0,len(message),+1):\n",
    "        num = num+ord(message[i])*grd\n",
    "        grd *= 256\n",
    "    return num\n",
    "\n",
    "def ConvertToStr(num):\n",
    "    st = \"\"\n",
    "    while (num != 0):\n",
    "        temp = num % 256\n",
    "        st += chr(temp)\n",
    "        chr(temp)\n",
    "        num = num - temp\n",
    "        num = num // 256\n",
    "    st = st[::-1]\n",
    "    return st\n",
    "\n",
    "s = ConvertToInt(o_message)\n",
    "n = ConvertToStr(s)\n",
    "print(s)\n",
    "print(n)"
   ]
  },
  {
   "cell_type": "code",
   "execution_count": 8,
   "id": "60f073a8",
   "metadata": {},
   "outputs": [
    {
     "data": {
      "text/plain": [
       "1"
      ]
     },
     "execution_count": 8,
     "metadata": {},
     "output_type": "execute_result"
    }
   ],
   "source": [
    "p, q = 100000000000000003, 100000000000000013            \n",
    "phi_n = (p - 1) * (q - 1)\n",
    "e = 2\n",
    "lcd, _, d = euclid_extended(phi_n, e)\n",
    "while lcd != 1:\n",
    "    e = rd.randint(3, phi_n)\n",
    "    lcd, _, d = euclid_extended(phi_n, e)\n",
    "\n",
    "(phi_n * _ + e * d) % phi_n"
   ]
  },
  {
   "cell_type": "code",
   "execution_count": 9,
   "id": "90be14a2",
   "metadata": {},
   "outputs": [],
   "source": [
    "# def encrypt(message, phi_n, e):\n",
    "#     phi_n = int(phi_n)\n",
    "#     m = to_number(message)\n",
    "#     encrypted = ''\n",
    "#     encryptedn = ''\n",
    "#     i = 0\n",
    "#     number = ''\n",
    "#     letters = 0\n",
    "#     while i < len(m):\n",
    "#         if int(number + m[i:i + 4]) < phi_n:\n",
    "#             number += m[i:i + 4]\n",
    "#             letters += 1\n",
    "#             i += 4\n",
    "#         else:\n",
    "#             print(number)\n",
    "#             number = int(number)\n",
    "#             number = pow(number, e, phi_n)\n",
    "#             number = str(number).zfill(letters * 4)\n",
    "#             encrypted += to_text(number)\n",
    "#             encryptedn += number\n",
    "#             if (len(encryptedn) % 4) != 0:\n",
    "#                 encryptedn = encryptedn.zfill((len(encryptedn) // 4 + 1) * 4)\n",
    "                \n",
    "#             number = ''\n",
    "#             letters = 0\n",
    "            \n",
    "#     return encrypted, encryptedn, m\n",
    "\n",
    "# def decrypt(encrypted, phi_n, d):\n",
    "#     d = int(d)\n",
    "#     phi_n = int(phi_n)\n",
    "#     m = to_number(encrypted)\n",
    "#     message = ''\n",
    "#     i = 4\n",
    "#     letters = 0\n",
    "#     number = ''\n",
    "#     while m != '':\n",
    "#         aux = m[0:i]\n",
    "#         aux = int(aux)\n",
    "#         if aux < phi_n and i <= len(m):\n",
    "#             number = m[0:i]\n",
    "#             letters += 1\n",
    "#             i += 4\n",
    "#         else:\n",
    "#             number = int(number)\n",
    "#             number = pow(number, d, phi_n)\n",
    "#             number = str(number).zfill(letters * 4)\n",
    "#             message += to_text(number)\n",
    "#             number = ''\n",
    "#             m = m[4 * letters:]\n",
    "#             letters = 0\n",
    "#             i = 4\n",
    "            \n",
    "#     return message\n",
    "\n",
    "# m = encrypt(o_message, phi_n, e)\n",
    "# message = decrypt(m[0], phi_n, d)\n",
    "# print(m[2])\n",
    "# print(m[2] == to_number(o_message))\n",
    "# print(m[1], len(m[1]))\n",
    "# print(message)\n",
    "# print(m[1] == message)"
   ]
  },
  {
   "cell_type": "code",
   "execution_count": 10,
   "id": "d46d638a",
   "metadata": {},
   "outputs": [
    {
     "name": "stdout",
     "output_type": "stream",
     "text": [
      "'\u0012±_T\u0014:z]<¹Å?\n",
      "Hello World!\n",
      "True\n"
     ]
    }
   ],
   "source": [
    "def encrypt(message, phi_n, e):\n",
    "    phi_n = int(phi_n)\n",
    "    m = ConvertToInt(message)\n",
    "    m = (m * e) % phi_n\n",
    "    encrypted = ConvertToStr(m)\n",
    "    \n",
    "    return encrypted\n",
    "\n",
    "def decrypt(encrypted, phi_n, d):\n",
    "    d = int(d)\n",
    "    phi_n = int(phi_n)\n",
    "    m = ConvertToInt(encrypted)\n",
    "    m = (m * d) % phi_n\n",
    "    message = ConvertToStr(m)\n",
    "    \n",
    "    return message\n",
    "\n",
    "m = encrypt(o_message, phi_n, e)\n",
    "message = decrypt(m, phi_n, d)\n",
    "print(m)\n",
    "print(message)\n",
    "print(message == o_message)"
   ]
  },
  {
   "cell_type": "code",
   "execution_count": null,
   "id": "7bee0328",
   "metadata": {},
   "outputs": [],
   "source": []
  }
 ],
 "metadata": {
  "kernelspec": {
   "display_name": "Python 3 (ipykernel)",
   "language": "python",
   "name": "python3"
  },
  "language_info": {
   "codemirror_mode": {
    "name": "ipython",
    "version": 3
   },
   "file_extension": ".py",
   "mimetype": "text/x-python",
   "name": "python",
   "nbconvert_exporter": "python",
   "pygments_lexer": "ipython3",
   "version": "3.8.10"
  }
 },
 "nbformat": 4,
 "nbformat_minor": 5
}
