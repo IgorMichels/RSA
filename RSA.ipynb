{
 "cells": [
  {
   "cell_type": "markdown",
   "id": "f50ddce7",
   "metadata": {},
   "source": [
    "Primeiramente vamos realizar os imports:"
   ]
  },
  {
   "cell_type": "code",
   "execution_count": 1,
   "id": "c9b81e68",
   "metadata": {},
   "outputs": [],
   "source": [
    "# import's para implementar o RSA\n",
    "import numpy as np\n",
    "import random as rd\n",
    "from glob import glob\n",
    "\n",
    "# import's para trabalhar com o e-mail\n",
    "import email\n",
    "import smtplib\n",
    "import imaplib\n",
    "from getpass import getpass\n",
    "from email.mime.text import MIMEText\n",
    "from email.mime.multipart import MIMEMultipart"
   ]
  },
  {
   "cell_type": "markdown",
   "id": "8c0c29d1",
   "metadata": {},
   "source": [
    "Feito isso, vamos criar uma função para calcular o Algoritmo de Euclides Estendido, isso é, uma função que recebe dois inteiros $a$ e $b$ e retorna $mdc(a, b)$ e valores $x$ e $y$ tais que $a\\cdot x + b\\cdot y = mdc(a, b)$."
   ]
  },
  {
   "cell_type": "code",
   "execution_count": 2,
   "id": "e23367f8",
   "metadata": {},
   "outputs": [],
   "source": [
    "def euclid_extended(a, b):\n",
    "    inverted = False\n",
    "    if b > a:\n",
    "        a, b = b, a\n",
    "        inverted = True\n",
    "    \n",
    "    table = np.array([[a, b], [1, 0], [0, 1]])\n",
    "    iteration = 0\n",
    "    while table[0, (iteration + 1) % 2] != 0:\n",
    "        a, b = table[0, iteration % 2], table[0, (iteration + 1) % 2]\n",
    "        q = a // b\n",
    "        table[:, iteration % 2] -= table[:, (iteration + 1) % 2] * q\n",
    "        iteration += 1\n",
    "        \n",
    "    lcd, x, y = table[:, iteration % 2]\n",
    "    if inverted:\n",
    "        return lcd, y, x\n",
    "    else:\n",
    "        return lcd, x, y"
   ]
  },
  {
   "cell_type": "markdown",
   "id": "f2eb9173",
   "metadata": {},
   "source": [
    "Elaborada tal função, já temos o ferramental para, dados dois primos, gerar os parâmetros para a implementação do RSA, isso é, as duas chaves: pública e privada.\n",
    "\n",
    "A geração da chave se dará do seguinte modo:\n",
    "  - dados dois primos $p$ e $q$, calculamos $n = p\\cdot q$ e $\\phi(n) = (p - 1)\\cdot (q - 1)$;\n",
    "  - feito isso, escolhemos $e$ de modo que $mdc(e, \\phi(n)) = 1$ e $2 < e < \\phi(n)$;\n",
    "  - agora, encontramos $d$ de modo que $2 < d < \\phi(n)$ e $d\\cdot e \\equiv 1 \\pmod{\\phi(n)}$.\n",
    "\n",
    "Note que os dois últimos passos podem ser realizados simultaneamente via Algoritmo de Euclides Estendido. Dessa forma, a chave pública será dada pelo par $(n, e)$ enquanto a chave privada será dada pelo par $(n, d)$."
   ]
  },
  {
   "cell_type": "code",
   "execution_count": 3,
   "id": "521fc7bb",
   "metadata": {},
   "outputs": [],
   "source": [
    "def generate_keys(p, q):\n",
    "    n = p * q\n",
    "    phi_n = (p - 1) * (q - 1)\n",
    "    e = rd.randint(3, phi_n)\n",
    "    lcd, _, d = euclid_extended(phi_n, e)\n",
    "    while lcd != 1:\n",
    "        e = rd.randint(3, phi_n)\n",
    "        lcd, _, d = euclid_extended(phi_n, e)\n",
    "        \n",
    "    return (n, e), (n, d)"
   ]
  },
  {
   "cell_type": "markdown",
   "id": "a4c16d35",
   "metadata": {},
   "source": [
    "Tendo as duas chaves, devemos ter funções que vão criptografar e descriptografar uma mensagem. Entretanto, a mensagem é um texto (string), e o RSA trabalha com números, então vamos primeiro criar funções que transformem strings para números e números para strings. A ideia para essas funções será transformar a mensagem para um inteiro em \"base\" 256 (quantidade de caracteres da tabela ASCII), bem como o caminho inverso. Para isso, estamos usando funções como ```ord``` e ```chr```."
   ]
  },
  {
   "cell_type": "code",
   "execution_count": 4,
   "id": "4aadca49",
   "metadata": {},
   "outputs": [],
   "source": [
    "def str2int(message):\n",
    "    exp = 1\n",
    "    number = 0\n",
    "    for i in range(len(message)):\n",
    "        number += ord(message[i]) * exp\n",
    "        exp *= 256\n",
    "    \n",
    "    return number\n",
    "\n",
    "def int2str(number):\n",
    "    message = ''\n",
    "    while number != 0:\n",
    "        temp = number % 256\n",
    "        message += chr(temp)\n",
    "        number -= temp\n",
    "        number = number // 256\n",
    "    \n",
    "    return message"
   ]
  },
  {
   "cell_type": "markdown",
   "id": "77eb6d75",
   "metadata": {},
   "source": [
    "Tendo essas funções podemos, finalmente, elaborar funções que vão criptografar e descriptografar mensagens:"
   ]
  },
  {
   "cell_type": "code",
   "execution_count": 5,
   "id": "539f3dff",
   "metadata": {},
   "outputs": [],
   "source": [
    "def encrypt(message, public_key):\n",
    "    n, e = public_key\n",
    "    m = str2int(message)\n",
    "    m = pow(m, e, n)\n",
    "    encrypted = int2str(m)\n",
    "    \n",
    "    return encrypted\n",
    "\n",
    "def decrypt(encrypted, private_key):\n",
    "    n, d = private_key\n",
    "    m = str2int(encrypted)\n",
    "    m = pow(m, d, n)\n",
    "    message = int2str(m)\n",
    "    \n",
    "    return message"
   ]
  },
  {
   "cell_type": "markdown",
   "id": "baf193e4",
   "metadata": {},
   "source": [
    "Agora, podemos criar uma rotina para utilizarmos o algoritmo implementado acima. A ideia será trocar e-mails criptografados. Para tanto, criamos uma função que recebe um usuário e senha, além de um endereço de e-mail de destinatário, assunto, corpo do e-mail e a chave pública. Para simplificar na localização do e-mail que vamos descriptografar para ler, essa função também recebe como parâmetro uma tag para marcar esse e-mail."
   ]
  },
  {
   "cell_type": "code",
   "execution_count": 6,
   "id": "26028260",
   "metadata": {},
   "outputs": [],
   "source": [
    "def send_mail(username, password, mail_address, subject, body, public_key, tag = '[Encrypted] '):\n",
    "    body = encrypt(body, public_key)\n",
    "    subject = tag + subject\n",
    "    msg = MIMEMultipart()\n",
    "    msg['From'] = username\n",
    "    msg['To'] = mail_address\n",
    "    msg['Subject'] = subject\n",
    "    msg.attach(MIMEText(body, 'plain'))\n",
    "    server = smtplib.SMTP('smtp.gmail.com', 587)\n",
    "    server.ehlo()\n",
    "    server.starttls()\n",
    "    server.ehlo()\n",
    "    server.login(username, password)\n",
    "    text = msg.as_string()\n",
    "    server.sendmail(username, mail_address, text)\n",
    "    server.quit()"
   ]
  },
  {
   "cell_type": "markdown",
   "id": "804fcf0c",
   "metadata": {},
   "source": [
    "Tendo enviado o e-mail, criamos uma função que recebe o usuário e a senha de um e-mail, além da chave privada e lê os e-mails criptografados (marcados com a tag no assunto)."
   ]
  },
  {
   "cell_type": "code",
   "execution_count": 7,
   "id": "b1c3ac1a",
   "metadata": {},
   "outputs": [],
   "source": [
    "def read_email(username, password, private_key, tag = '[Encrypted]', qtd = 1):\n",
    "    printed = 0\n",
    "    crip = False\n",
    "    server = 'imap.gmail.com'\n",
    "    mail = imaplib.IMAP4_SSL(server)\n",
    "    mail.login(username, password)\n",
    "    mail.select('inbox')\n",
    "    data = mail.search(None, 'ALL')\n",
    "    mail_ids = data[1]\n",
    "    id_list = mail_ids[0].split()   \n",
    "    first_email_id = int(id_list[0])\n",
    "    latest_email_id = int(id_list[-1])\n",
    "    for i in range(latest_email_id, first_email_id, -1):\n",
    "        if printed == qtd:\n",
    "            break\n",
    "\n",
    "        data = mail.fetch(str(i), '(RFC822)')\n",
    "        for response_part in data:\n",
    "            arr = response_part[0]\n",
    "            if isinstance(arr, tuple):\n",
    "                msg = email.message_from_string(str(arr[1], 'utf-8'))\n",
    "                email_subject = msg['subject']\n",
    "                email_from = msg['from']\n",
    "                if tag not in email_subject:\n",
    "                    break\n",
    "                else:\n",
    "                    printed += 1\n",
    "                    crip = True\n",
    "\n",
    "                print('From: ' + email_from)\n",
    "                print('Subject: ' + email_subject)\n",
    "                print()\n",
    "                for part in msg.walk():\n",
    "                    content_type = part.get_content_type()\n",
    "                    content_disposition = str(part.get('Content-Disposition'))\n",
    "                    try:\n",
    "                        body = part.get_payload(decode = True).decode()\n",
    "                    except:\n",
    "                        pass\n",
    "\n",
    "                    if content_type == 'text/plain':\n",
    "                        body = decrypt(body, private_key)\n",
    "                        print(body)\n",
    "        \n",
    "        if printed != qtd and crip:\n",
    "            print()\n",
    "            crip = False"
   ]
  },
  {
   "cell_type": "markdown",
   "id": "3601137f",
   "metadata": {},
   "source": [
    "Agora vamos testar as funções. Para isso, criamos uma lista de primos, alguns desses primos foram pegos da [Wikipédia](https://en.wikipedia.org/wiki/Largest_known_prime_number)."
   ]
  },
  {
   "cell_type": "code",
   "execution_count": 8,
   "id": "02d2d2cf",
   "metadata": {},
   "outputs": [],
   "source": [
    "primes = [100000000000000003, 100000000000000013]\n",
    "primes = primes + [999999000001, 67280421310721, 170141183460469231731687303715884105727, 20988936657440586486151264256610222593863921, 531137992816767098689588206552468627329593117727031923199444138200403559860852242739162502265229285668889329486246501015346579337652707239409519978766587351943831270835393219031728127, 6864797660130609714981900799081393217269435300143305409394463459185543183397656052122559640661454554977296311391480858037121987999716643812574028291115057151, 10407932194664399081925240327364085538615262247266704805319112350403608059673360298012239441732324184842421613954281007791383566248323464908139906605677320762924129509389220345773183349661583550472959420547689811211693677147548478866962501384438260291732348885311160828538416585028255604666224831890918801847068222203140521026698435488732958028878050869736186900714720710555703168729087]\n",
    "p, q = primes[-1], primes[-2]"
   ]
  },
  {
   "cell_type": "markdown",
   "id": "ec7d18d6",
   "metadata": {},
   "source": [
    "Escolhemos esses dois primos pois são os maiores, então o algoritmo com esses dois primos aceita mensagens maiores:"
   ]
  },
  {
   "cell_type": "code",
   "execution_count": 9,
   "id": "1b3809b4",
   "metadata": {},
   "outputs": [
    {
     "name": "stdout",
     "output_type": "stream",
     "text": [
      "u\u0018\u0005CÂæù@Ð¬1\u0002\n",
      "\n",
      "þ\u0001üþ«\u0003þHA¶Å5N\u0000\n",
      "\u0000­1\u0002þî«ûúSú\u0003ò­ò\f",
      "ôÿü÷L­\u0007ï\u0003\u0000\u0000õkþH\n",
      "É½¦\u000f90W\téMaÔ¸X'ðøØ\u001d",
      "±ßJ\u0012ø\u0004uggÈª\u001e",
      "yBt×ZÅ}ëÞþc\u001bà>\u000eïz\u0001aS^ßÉå\u0017çîïÅéÅbÜ#§\u0016\n",
      "\n",
      "Você sabia? Resolver equações na Roma antiga era bem mais fácil. Afinal, o valor de x era sempre 10.\n",
      "Estatísticas comprovam: água causa morte. Segundo os cientistas, 100% das mortes ocorrem em seres que bebem água.\n"
     ]
    }
   ],
   "source": [
    "text = '''Você sabia? Resolver equações na Roma antiga era bem mais fácil. Afinal, o valor de x era sempre 10.\n",
    "Estatísticas comprovam: água causa morte. Segundo os cientistas, 100% das mortes ocorrem em seres que bebem água.'''\n",
    "p, q = primes[-3], primes[-2]\n",
    "public_key, private_key = generate_keys(p, q)\n",
    "t = encrypt(text, public_key)\n",
    "e = decrypt(t, private_key)\n",
    "print(e)\n",
    "print()\n",
    "\n",
    "p, q = primes[-1], primes[-2]\n",
    "public_key, private_key = generate_keys(p, q)\n",
    "t = encrypt(text, public_key)\n",
    "e = decrypt(t, private_key)\n",
    "print(e)"
   ]
  },
  {
   "cell_type": "markdown",
   "id": "456e6c88",
   "metadata": {},
   "source": [
    "Agora, temos um código para gerar e salvar as chaves. A ideia de salvar as chaves é para possibilitar que carreguemos as mesmas, podendo ler os e-mails mesmo após fechar esse notebook, caso contrário perderíamos as duas chaves."
   ]
  },
  {
   "cell_type": "code",
   "execution_count": 10,
   "id": "c1949e80",
   "metadata": {},
   "outputs": [],
   "source": [
    "if 'public.csv' not in glob('*.csv'):\n",
    "    public_key, private_key = generate_keys(p, q)\n",
    "    with open('public.csv', 'w') as file:\n",
    "        file.write(str(public_key[0]) + '\\n')\n",
    "        file.write(str(public_key[1]) + '\\n')\n",
    "        \n",
    "    with open('private.csv', 'w') as file:\n",
    "        file.write(str(private_key[0]) + '\\n')\n",
    "        file.write(str(private_key[1]) + '\\n')   \n",
    "else:\n",
    "    file = open('public.csv')\n",
    "    public_key = file.readlines()\n",
    "    file.close()\n",
    "    public_key = tuple([int(i) for i in public_key])\n",
    "    \n",
    "    file = open('private.csv')\n",
    "    private_key = file.readlines()\n",
    "    file.close()\n",
    "    private_key = tuple([int(i) for i in private_key])"
   ]
  },
  {
   "cell_type": "markdown",
   "id": "f9ba3044",
   "metadata": {},
   "source": [
    "Agora, vamos pegar as credenciais do usuário:"
   ]
  },
  {
   "cell_type": "code",
   "execution_count": 11,
   "id": "d18b8210",
   "metadata": {},
   "outputs": [
    {
     "name": "stdout",
     "output_type": "stream",
     "text": [
      "Username: igorpmichels@gmail.com\n",
      "Password: ········\n"
     ]
    }
   ],
   "source": [
    "username = input('Username: ')\n",
    "password = getpass(prompt = 'Password: ')"
   ]
  },
  {
   "cell_type": "markdown",
   "id": "1147ef65",
   "metadata": {},
   "source": [
    "Agora vamos enviar um e-mail utilizando o RSA:"
   ]
  },
  {
   "cell_type": "code",
   "execution_count": 12,
   "id": "b16b1636",
   "metadata": {},
   "outputs": [
    {
     "name": "stdout",
     "output_type": "stream",
     "text": [
      "Digite aqui sua mensagem: ········\n"
     ]
    }
   ],
   "source": [
    "mail_address = username # 'luca.escopelli@gmail.com' # destinatário (igual o username para ler o e-mail depois)\n",
    "subject = 'Teste'\n",
    "body = getpass('Digite aqui sua mensagem: ')\n",
    "\n",
    "send_mail(username, password, mail_address, subject, body, public_key)"
   ]
  },
  {
   "cell_type": "markdown",
   "id": "043b7772",
   "metadata": {},
   "source": [
    "Agora, vamos ler o e-mail que acabamos de enviar e que foi criptografado:"
   ]
  },
  {
   "cell_type": "code",
   "execution_count": 13,
   "id": "a34d7111",
   "metadata": {
    "scrolled": false
   },
   "outputs": [
    {
     "name": "stdout",
     "output_type": "stream",
     "text": [
      "From: igorpmichels@gmail.com\n",
      "Subject: [Encrypted] Teste\n",
      "\n",
      "Testando o Algoritmo RSA\n"
     ]
    }
   ],
   "source": [
    "read_email(username, password, private_key)"
   ]
  }
 ],
 "metadata": {
  "kernelspec": {
   "display_name": "Python 3 (ipykernel)",
   "language": "python",
   "name": "python3"
  },
  "language_info": {
   "codemirror_mode": {
    "name": "ipython",
    "version": 3
   },
   "file_extension": ".py",
   "mimetype": "text/x-python",
   "name": "python",
   "nbconvert_exporter": "python",
   "pygments_lexer": "ipython3",
   "version": "3.8.10"
  }
 },
 "nbformat": 4,
 "nbformat_minor": 5
}
