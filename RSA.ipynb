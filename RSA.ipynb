{
 "cells": [
  {
   "cell_type": "code",
   "execution_count": 1,
   "id": "c9b81e68",
   "metadata": {},
   "outputs": [],
   "source": [
    "import random as rd\n",
    "import numpy as np\n",
    "\n",
    "from glob import glob"
   ]
  },
  {
   "cell_type": "code",
   "execution_count": 2,
   "id": "e23367f8",
   "metadata": {},
   "outputs": [],
   "source": [
    "def euclid_extended(a, b):\n",
    "    '''\n",
    "    Realiza o cálculo do mdc\n",
    "    entre a e b, retornando\n",
    "    o mdc e x e y tais que\n",
    "    ax + by = mdc(a, b).\n",
    "    '''\n",
    "    inverted = False\n",
    "    if b > a:\n",
    "        a, b = b, a\n",
    "        inverted = True\n",
    "        \n",
    "    \n",
    "    table = np.array([[a, b], [1, 0], [0, 1]])\n",
    "    iteration = 0\n",
    "    while table[0, (iteration + 1) % 2] != 0:\n",
    "        a, b = table[0, iteration % 2], table[0, (iteration + 1) % 2]\n",
    "        q = a // b\n",
    "        r = a % b\n",
    "        table[:, iteration % 2] -= table[:, (iteration + 1) % 2] * q\n",
    "        iteration += 1\n",
    "        \n",
    "    lcd, x, y = table[:, iteration % 2]\n",
    "    \n",
    "    if inverted:\n",
    "        return lcd, y, x\n",
    "    else:\n",
    "        return lcd, x, y\n",
    "\n",
    "def is_prime(n):\n",
    "    '''\n",
    "    Recebe um número e verifica\n",
    "    se ele é primo\n",
    "    '''\n",
    "    if n == 2:\n",
    "        return True\n",
    "    \n",
    "    if n < 2 or n % 2 == 0:\n",
    "        return False\n",
    "    \n",
    "    for i in range(3, int(n**(0.5)) + 1, 2):\n",
    "        if n % i == 0:\n",
    "            return False\n",
    "        \n",
    "    return True"
   ]
  },
  {
   "cell_type": "code",
   "execution_count": 3,
   "id": "27755800",
   "metadata": {},
   "outputs": [
    {
     "data": {
      "text/plain": [
       "array([10007, 10009, 10037, ..., 19991, 19993, 19997])"
      ]
     },
     "execution_count": 3,
     "metadata": {},
     "output_type": "execute_result"
    }
   ],
   "source": [
    "# Buscando os primos de 10.000 até\n",
    "# 19.999\n",
    "\n",
    "if 'primos.npy' not in glob('*.npy'):\n",
    "    primes = []\n",
    "    a = 10000\n",
    "    for i in range(5000):\n",
    "        if is_prime(a + 2 * i + 1):\n",
    "            primes.append(a + 2 * i + 1)\n",
    "\n",
    "    primes = np.array(primes)\n",
    "    with open('primos.npy', 'wb') as f:\n",
    "        np.save(f, primos)\n",
    "\n",
    "else:\n",
    "    primes = np.load('primos.npy')\n",
    "\n",
    "primes"
   ]
  },
  {
   "cell_type": "code",
   "execution_count": 4,
   "id": "539f3dff",
   "metadata": {},
   "outputs": [],
   "source": [
    "def choose_parameters(primes):\n",
    "    '''\n",
    "    Recebe um array de primos e\n",
    "    retorna dois primos p e q,\n",
    "    phi(n) e números e e d de\n",
    "    modo que de = 1 (mod phi(n)),\n",
    "    onde n = p*q\n",
    "    '''\n",
    "    \n",
    "    rd.shuffle(primes)\n",
    "    p, q = primes[:2]\n",
    "    phi_n = (p - 1) * (q - 1)\n",
    "    \n",
    "    e = 2\n",
    "    lcd, _, d = euclid_extended(phi_n, e)\n",
    "    while lcd != 1:\n",
    "        e = rd.randint(3, phi_n)\n",
    "        lcd, _, d = euclid_extended(phi_n, e)\n",
    "    \n",
    "    return p, q, phi_n, e, d\n",
    "\n",
    "def str2int(message):\n",
    "    exp = 1\n",
    "    number = 0\n",
    "    message = message[::-1]\n",
    "    for i in range(len(message)):\n",
    "        number += ord(message[i]) * exp\n",
    "        exp *= 256\n",
    "    return number\n",
    "\n",
    "def int2str(number):\n",
    "    message = ''\n",
    "    while number != 0:\n",
    "        temp = number % 256\n",
    "        message += chr(temp)\n",
    "        number -= temp\n",
    "        number = number // 256\n",
    "    message = message[::-1]\n",
    "    return message\n",
    "\n",
    "def generate_keys(p, q):\n",
    "    phi_n = (p - 1) * (q - 1)\n",
    "    e = 2\n",
    "    lcd, _, d = euclid_extended(phi_n, e)\n",
    "    while lcd != 1:\n",
    "        e = rd.randint(3, phi_n)\n",
    "        lcd, _, d = euclid_extended(phi_n, e)\n",
    "        \n",
    "    return (phi_n, e), (phi_n, d)\n",
    "\n",
    "def encrypt(message, public_key):\n",
    "    phi_n, e = public_key\n",
    "    phi_n = int(phi_n)\n",
    "    m = str2int(message)\n",
    "    m = (m * e) % phi_n\n",
    "    encrypted = int2str(m)\n",
    "    \n",
    "    return encrypted\n",
    "\n",
    "def decrypt(encrypted, private_key):\n",
    "    phi_n, d = private_key\n",
    "    d = int(d)\n",
    "    phi_n = int(phi_n)\n",
    "    m = str2int(encrypted)\n",
    "    m = (m * d) % phi_n\n",
    "    message = int2str(m)\n",
    "    \n",
    "    return message"
   ]
  },
  {
   "cell_type": "code",
   "execution_count": 5,
   "id": "786f17f9",
   "metadata": {},
   "outputs": [],
   "source": [
    "# alguns primos de https://en.wikipedia.org/wiki/Largest_known_prime_number\n",
    "primes = [999999000001, 67280421310721, 170141183460469231731687303715884105727, 20988936657440586486151264256610222593863921, 531137992816767098689588206552468627329593117727031923199444138200403559860852242739162502265229285668889329486246501015346579337652707239409519978766587351943831270835393219031728127, 6864797660130609714981900799081393217269435300143305409394463459185543183397656052122559640661454554977296311391480858037121987999716643812574028291115057151, 10407932194664399081925240327364085538615262247266704805319112350403608059673360298012239441732324184842421613954281007791383566248323464908139906605677320762924129509389220345773183349661583550472959420547689811211693677147548478866962501384438260291732348885311160828538416585028255604666224831890918801847068222203140521026698435488732958028878050869736186900714720710555703168729087]"
   ]
  },
  {
   "cell_type": "code",
   "execution_count": 6,
   "id": "c1949e80",
   "metadata": {},
   "outputs": [
    {
     "name": "stdout",
     "output_type": "stream",
     "text": [
      "Ü¦\\ÝU\u000eEF½×9>åµsµ*ý$©±EÎ×¯ïÓ¯+Y¹×èÚÃ³S\u001fJ\u000b",
      "ô§Õ\u0011F\u0015T# ,iËñLÉð¤\u000fM\u0016I7\u0010%A\u000fFtØ\u001bãÎ\u001c",
      "Åe\u0017BVÜ\u001e",
      "Áxù[À\u001e",
      "\u0012³n:GeIº'E»ùù.\u0007zâh",
      "( Qó¿ÐÃN.»oýæF ÊÐ\u0000èÂ\u0017;è¿\r",
      "²ïYVÔ0}cÌhRç g\u0017Ú1\u0001~\u00009»\"\u00063BFÓx\f",
      "\u00178sÿ½³1Dg\u001bé\u00079Þ\u000b",
      "\u0000Êó\u0000?ÝVÓ9µî,-£\n",
      "O eclass ta fora do ar tbm? sei q zap, face e insta tão fora, mas tbm não consigo entrar no eclass. Como q vou estudar algebra? como q vou fazer a lista pra amanha?\n"
     ]
    }
   ],
   "source": [
    "message = 'O eclass ta fora do ar tbm? sei q zap, face e insta tão fora, mas tbm não consigo entrar no eclass. Como q vou estudar algebra? como q vou fazer a lista pra amanha?'\n",
    "# p, q = 100000000000000003, 100000000000000013\n",
    "p, q = primes[-1], primes[-2]\n",
    "\n",
    "public_key, private_key = generate_keys(p, q)\n",
    "e_message = encrypt(message, public_key)\n",
    "d_message = decrypt(e_message, private_key)\n",
    "print(e_message)\n",
    "print(d_message)"
   ]
  },
  {
   "cell_type": "code",
   "execution_count": 7,
   "id": "2959eaa8",
   "metadata": {},
   "outputs": [],
   "source": [
    "import smtplib\n",
    "from getpass import getpass\n",
    "from email.mime.multipart import MIMEMultipart\n",
    "from email.mime.text import MIMEText\n",
    "from email.mime.base import MIMEBase\n",
    "from email import encoders\n",
    "\n",
    "def send_mail(from_mail, to_mail, subject, body, public_key):\n",
    "    password = getpass(prompt = 'Password: ')\n",
    "    body = encrypt(body, public_key)\n",
    "    msg = MIMEMultipart()\n",
    "    msg['From'] = from_mail\n",
    "    msg['To'] = to_mail\n",
    "    msg['Subject'] = subject\n",
    "    msg.attach(MIMEText(body, 'plain'))\n",
    "    server = smtplib.SMTP('smtp.gmail.com', 587)\n",
    "    server.ehlo()\n",
    "    server.starttls()\n",
    "    server.ehlo()\n",
    "    server.login(from_mail, password)\n",
    "    text = msg.as_string()\n",
    "    server.sendmail(from_mail, to_mail, text)\n",
    "    server.quit()\n",
    "    \n",
    "    return body"
   ]
  },
  {
   "cell_type": "code",
   "execution_count": 8,
   "id": "b16b1636",
   "metadata": {},
   "outputs": [
    {
     "name": "stdout",
     "output_type": "stream",
     "text": [
      "Password: ········\n"
     ]
    },
    {
     "data": {
      "text/plain": [
       "'Ü¦\\\\Ý\\x9f\\x91U\\x0eE\\x88F½×9>åµsµ*ý$©±EÎ×¯ïÓ¯+Y¹×èÚÃ³S\\x8c\\x1fJ\\x0b\\x8eô§Õ\\x11F\\x15T#\\xa0,\\x88iË\\x9e\\x99\\x96ñLÉð¤\\x0fM\\x16I7\\x10%A\\x0fFtØ\\x1bã\\x84Î\\x1c\\x98Åe\\x17BVÜ\\x1eÁxù[À\\x1e\\x12³n:GeI\\x91º\\'\\x82E»ùù\\x81.\\x07z\\x97\\x7fâh\\x85(\\xa0Qó\\x91\\x86¿ÐÃN.»oýæF ÊÐ\\x00\\x8fèÂ\\x92\\x17;è¿\\x98\\x84\\r\\x95\\x89²ïYV\\x92Ô0}cÌ\\x89hRç g\\x17Ú1\\x01~\\x009»\\x99\"\\x063\\x81BFÓx\\x87\\x0c\\x178s\\x9bÿ½³\\x961Dg\\x1bé\\x079Þ\\x0b\\x00Êó\\x95\\x00\\x91?ÝVÓ9µî,\\x9f\\x9f\\x92-£'"
      ]
     },
     "execution_count": 8,
     "metadata": {},
     "output_type": "execute_result"
    }
   ],
   "source": [
    "from_mail = 'igorpmichels@gmail.com'\n",
    "to_mail = 'luca.escopelli@gmail.com'\n",
    "# to_mail = 'igorpmichels@gmail.com'\n",
    "subject = 'Hey man'\n",
    "body = message\n",
    "send_mail(from_mail, to_mail, subject, body, public_key)"
   ]
  },
  {
   "cell_type": "code",
   "execution_count": 9,
   "id": "a34d7111",
   "metadata": {},
   "outputs": [
    {
     "name": "stdout",
     "output_type": "stream",
     "text": [
      "Password: ········\n",
      "<class 'str'> igorpmichels@gmail.com\n",
      "From : igorpmichels@gmail.com\n",
      "\n",
      "Subject : Hey man\n",
      "\n",
      "\\L)tå3\u0004ò¶Å¥a\u000e\u0016ÔE¢1b×Ìcl\u001b\u00041¹®É_3Ç­0Xl\u0014´)Ëüà@{èÎÕû\u00024@®\u0011\u0001òc±\u001c",
      "²jðét©ßºrëuÚ­8bjí¶¬\u0003\u0012ýíCwËe\t|&sçaHtz¹Ñ\u0010G:L&ï&Iã>Îç\u001d",
      "2kðÝn÷\u000b",
      "Ò ¶¢7«¬Xe§\u0012Ø",
      "Ñhè\u000f7ÀVK\u0010Ý|2ï(Y\u001c",
      "?ÙC84wW¡×\u0002sN;q¶Û$ùçvLA¡]Õÿ%4`\u0006,\u0002i¼k~Û6ïÕÖC+ÿ\u0000sý\n",
      "Òc(Î\u0004¾!L[\u0019Rïus\u0006m²\u0004\u000fFß8®ÕZèåÈvFPën JôØÒè6T\u0007µ/)½ÃÈd[Ü(E¨ëè³\u0000eÉÍa\u0013JÀ\u0002¬5.pp¹îß-YáfAßíjñV;^@ìp;WYÙ+\u000f0\f",
      "¢GÑÔe\u0013ô°0Ç·[cvÙU±DÇð5£|? éòÜq7ó5U¤\u0010¾§Áy:£8\u001b1æ>\u0014Ý®\u0004ñ\u0010\u001e",
      "ÿV0F53a¯ÀZwT®W\u0014?¹L\n"
     ]
    }
   ],
   "source": [
    "import smtplib\n",
    "import time\n",
    "import imaplib\n",
    "import email\n",
    "import traceback \n",
    "\n",
    "def read_email_from_gmail(username, password, server, addres, private_key, qtd = 1):\n",
    "    printed = 0\n",
    "    try:\n",
    "        mail = imaplib.IMAP4_SSL(server)\n",
    "        mail.login(username, password)\n",
    "        mail.select('inbox')\n",
    "        data = mail.search(None, 'ALL')\n",
    "        mail_ids = data[1]\n",
    "        id_list = mail_ids[0].split()   \n",
    "        first_email_id = int(id_list[0])\n",
    "        latest_email_id = int(id_list[-1])\n",
    "        for i in range(latest_email_id, first_email_id, -1):\n",
    "            if printed == qtd:\n",
    "                break\n",
    "                \n",
    "            data = mail.fetch(str(i), '(RFC822)')\n",
    "            for response_part in data:\n",
    "                arr = response_part[0]\n",
    "                if isinstance(arr, tuple):\n",
    "                    msg = email.message_from_string(str(arr[1], 'utf-8'))\n",
    "                    email_subject = msg['subject']\n",
    "                    email_from = msg['from']\n",
    "                    print(type(email_from), email_from)\n",
    "                    if email_from != addres:\n",
    "                        break\n",
    "                    else:\n",
    "                        printed += 1\n",
    "                    \n",
    "                    print('From : ' + email_from + '\\n')\n",
    "                    print('Subject : ' + email_subject + '\\n')\n",
    "                    for part in msg.walk():\n",
    "                        content_type = part.get_content_type()\n",
    "                        content_disposition = str(part.get('Content-Disposition'))\n",
    "                        try:\n",
    "                            body = part.get_payload(decode=True).decode()\n",
    "                        except:\n",
    "                            pass\n",
    "                        if content_type == 'text/plain':\n",
    "                            print(body)\n",
    "                            body = decrypt(body, private_key)\n",
    "                            print(body)\n",
    "\n",
    "    except Exception as e:\n",
    "        traceback.print_exc() \n",
    "        print(str(e))\n",
    "\n",
    "username = 'igorpmichels@gmail.com'\n",
    "password = getpass(prompt = 'Password: ')\n",
    "server = 'imap.gmail.com'\n",
    "# addres = 'luca.escopelli@gmail.com'\n",
    "addres = 'igorpmichels@gmail.com'\n",
    "read_email_from_gmail(username, password, server, addres, private_key)"
   ]
  }
 ],
 "metadata": {
  "kernelspec": {
   "display_name": "Python 3 (ipykernel)",
   "language": "python",
   "name": "python3"
  },
  "language_info": {
   "codemirror_mode": {
    "name": "ipython",
    "version": 3
   },
   "file_extension": ".py",
   "mimetype": "text/x-python",
   "name": "python",
   "nbconvert_exporter": "python",
   "pygments_lexer": "ipython3",
   "version": "3.8.10"
  }
 },
 "nbformat": 4,
 "nbformat_minor": 5
}
