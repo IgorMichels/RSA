{
 "cells": [
  {
   "cell_type": "code",
   "execution_count": 1,
   "id": "c9b81e68",
   "metadata": {},
   "outputs": [],
   "source": [
    "import random as rd\n",
    "import numpy as np\n",
    "\n",
    "from glob import glob"
   ]
  },
  {
   "cell_type": "code",
   "execution_count": 2,
   "id": "c27201f6",
   "metadata": {},
   "outputs": [],
   "source": [
    "def euclides_extendido(a, b):\n",
    "    '''\n",
    "    Realiza o cálculo do mdc\n",
    "    entre a e b, retornando\n",
    "    o mdc e x e y tais que\n",
    "    ax + by = mdc(a, b).\n",
    "    '''\n",
    "    invertido = False\n",
    "    if b > a:\n",
    "        a, b = b, a\n",
    "        invertido = True\n",
    "        \n",
    "    \n",
    "    tabela = np.array([[a, b], [1, 0], [0, 1]])\n",
    "    iteracao = 0\n",
    "    while tabela[0, (iteracao + 1) % 2] != 0:\n",
    "        a, b = tabela[0, iteracao % 2], tabela[0, (iteracao + 1) % 2]\n",
    "        q = a // b\n",
    "        r = a % b\n",
    "        tabela[:, iteracao % 2] -= tabela[:, (iteracao + 1) % 2] * q\n",
    "        iteracao += 1\n",
    "        \n",
    "    mdc, x, y = tabela[:, iteracao % 2]\n",
    "    \n",
    "    if invertido:\n",
    "        return mdc, y, x\n",
    "    else:\n",
    "        return mdc, x, y"
   ]
  },
  {
   "cell_type": "code",
   "execution_count": 3,
   "id": "e23367f8",
   "metadata": {},
   "outputs": [],
   "source": [
    "def e_primo(n):\n",
    "    '''\n",
    "    Recebe um número e verifica\n",
    "    se ele é primo\n",
    "    '''\n",
    "    if n == 2:\n",
    "        return True\n",
    "    \n",
    "    if n < 2 or n % 2 == 0:\n",
    "        return False\n",
    "    \n",
    "    for i in range(3, int(n**(0.5)) + 1, 2):\n",
    "        if n % i == 0:\n",
    "            return False\n",
    "        \n",
    "    return True"
   ]
  },
  {
   "cell_type": "code",
   "execution_count": 4,
   "id": "27755800",
   "metadata": {},
   "outputs": [
    {
     "data": {
      "text/plain": [
       "array([10007, 10009, 10037, ..., 19991, 19993, 19997])"
      ]
     },
     "execution_count": 4,
     "metadata": {},
     "output_type": "execute_result"
    }
   ],
   "source": [
    "# Buscando os primos de 10.000 até\n",
    "# 19.999\n",
    "\n",
    "if 'primos.npy' not in glob('*.npy'):\n",
    "    primos = []\n",
    "    a = 10000\n",
    "    for i in range(5000):\n",
    "        if e_primo(a + 2 * i + 1):\n",
    "            primos.append(a + 2 * i + 1)\n",
    "\n",
    "    primos = np.array(primos)\n",
    "    with open('primos.npy', 'wb') as f:\n",
    "        np.save(f, primos)\n",
    "\n",
    "else:\n",
    "    primos = np.load('primos.npy')\n",
    "\n",
    "primos"
   ]
  },
  {
   "cell_type": "code",
   "execution_count": 5,
   "id": "210552ef",
   "metadata": {},
   "outputs": [],
   "source": [
    "def escolhe_parametros(primos):\n",
    "    '''\n",
    "    Recebe um array de primos e\n",
    "    retorna dois primos p e q,\n",
    "    phi(n) e números e e d de\n",
    "    modo que de = 1 (mod phi(n)),\n",
    "    onde n = p*q\n",
    "    '''\n",
    "    \n",
    "    rd.shuffle(primos)\n",
    "    p, q = primos[:2]\n",
    "    phi_n = (p - 1) * (q - 1)\n",
    "    \n",
    "    e = 2\n",
    "    mdc, _, d = euclides_extendido(phi_n, e)\n",
    "    while mdc != 1:\n",
    "        e = rd.randint(3, phi_n)\n",
    "        mdc, _, d = euclides_extendido(phi_n, e)\n",
    "        \n",
    "    return p, q, phi_n, e, d, mdc, _"
   ]
  },
  {
   "cell_type": "code",
   "execution_count": 6,
   "id": "7544d29f",
   "metadata": {},
   "outputs": [
    {
     "data": {
      "text/plain": [
       "1"
      ]
     },
     "execution_count": 6,
     "metadata": {},
     "output_type": "execute_result"
    }
   ],
   "source": [
    "p, q, phi_n, e, d, mdc, _ = escolhe_parametros(primos)\n",
    "\n",
    "mdc"
   ]
  },
  {
   "cell_type": "code",
   "execution_count": 7,
   "id": "4d4236a3",
   "metadata": {},
   "outputs": [
    {
     "data": {
      "text/plain": [
       "1"
      ]
     },
     "execution_count": 7,
     "metadata": {},
     "output_type": "execute_result"
    }
   ],
   "source": [
    "(phi_n * _ + e * d) % phi_n"
   ]
  },
  {
   "cell_type": "code",
   "execution_count": 8,
   "id": "06a72891",
   "metadata": {},
   "outputs": [
    {
     "data": {
      "text/plain": [
       "0"
      ]
     },
     "execution_count": 8,
     "metadata": {},
     "output_type": "execute_result"
    }
   ],
   "source": [
    "(phi_n * _) % phi_n"
   ]
  },
  {
   "cell_type": "code",
   "execution_count": 9,
   "id": "8bd21177",
   "metadata": {},
   "outputs": [
    {
     "data": {
      "text/plain": [
       "1"
      ]
     },
     "execution_count": 9,
     "metadata": {},
     "output_type": "execute_result"
    }
   ],
   "source": [
    "(e * d) % phi_n"
   ]
  },
  {
   "cell_type": "code",
   "execution_count": null,
   "id": "cadab845",
   "metadata": {},
   "outputs": [],
   "source": []
  }
 ],
 "metadata": {
  "kernelspec": {
   "display_name": "Python 3 (ipykernel)",
   "language": "python",
   "name": "python3"
  },
  "language_info": {
   "codemirror_mode": {
    "name": "ipython",
    "version": 3
   },
   "file_extension": ".py",
   "mimetype": "text/x-python",
   "name": "python",
   "nbconvert_exporter": "python",
   "pygments_lexer": "ipython3",
   "version": "3.8.10"
  }
 },
 "nbformat": 4,
 "nbformat_minor": 5
}
