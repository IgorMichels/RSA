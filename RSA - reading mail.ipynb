{
 "cells": [
  {
   "cell_type": "code",
   "execution_count": 1,
   "id": "c9b81e68",
   "metadata": {},
   "outputs": [],
   "source": [
    "from glob import glob\n",
    "\n",
    "import email\n",
    "import smtplib\n",
    "import imaplib\n",
    "from getpass import getpass\n",
    "from email.mime.text import MIMEText\n",
    "from email.mime.multipart import MIMEMultipart"
   ]
  },
  {
   "cell_type": "code",
   "execution_count": 2,
   "id": "4aadca49",
   "metadata": {},
   "outputs": [],
   "source": [
    "def str2int(message):\n",
    "    exp = 1\n",
    "    number = 0\n",
    "    for i in range(len(message)):\n",
    "        number += ord(message[i]) * exp\n",
    "        exp *= 256\n",
    "    \n",
    "    return number\n",
    "\n",
    "def int2str(number):\n",
    "    message = ''\n",
    "    while number != 0:\n",
    "        temp = number % 256\n",
    "        message += chr(temp)\n",
    "        number -= temp\n",
    "        number = number // 256\n",
    "    \n",
    "    return message"
   ]
  },
  {
   "cell_type": "code",
   "execution_count": 3,
   "id": "539f3dff",
   "metadata": {},
   "outputs": [],
   "source": [
    "def encrypt(message, public_key):\n",
    "    n, e = public_key\n",
    "    m = str2int(message)\n",
    "    m = pow(m, e, n)\n",
    "    encrypted = int2str(m)\n",
    "    \n",
    "    return encrypted\n",
    "\n",
    "def decrypt(encrypted, private_key):\n",
    "    n, d = private_key\n",
    "    m = str2int(encrypted)\n",
    "    m = pow(m, d, n)\n",
    "    message = int2str(m)\n",
    "    \n",
    "    return message"
   ]
  },
  {
   "cell_type": "code",
   "execution_count": 4,
   "id": "b1c3ac1a",
   "metadata": {},
   "outputs": [],
   "source": [
    "def read_email(username, password, private_key, tag = '[Encrypted]', qtd = 1):\n",
    "    printed = 0\n",
    "    crip = False\n",
    "    server = 'imap.gmail.com'\n",
    "    mail = imaplib.IMAP4_SSL(server)\n",
    "    mail.login(username, password)\n",
    "    mail.select('inbox')\n",
    "    data = mail.search(None, 'ALL')\n",
    "    mail_ids = data[1]\n",
    "    id_list = mail_ids[0].split()   \n",
    "    first_email_id = int(id_list[0])\n",
    "    latest_email_id = int(id_list[-1])\n",
    "    for i in range(latest_email_id, first_email_id, -1):\n",
    "        if printed == qtd:\n",
    "            break\n",
    "\n",
    "        data = mail.fetch(str(i), '(RFC822)')\n",
    "        for response_part in data:\n",
    "            arr = response_part[0]\n",
    "            if isinstance(arr, tuple):\n",
    "                msg = email.message_from_string(str(arr[1], 'utf-8'))\n",
    "                email_subject = msg['subject']\n",
    "                email_from = msg['from']\n",
    "                if tag not in email_subject:\n",
    "                    break\n",
    "                else:\n",
    "                    printed += 1\n",
    "                    crip = True\n",
    "\n",
    "                print('From: ' + email_from)\n",
    "                print('Subject: ' + email_subject)\n",
    "                print()\n",
    "                for part in msg.walk():\n",
    "                    content_type = part.get_content_type()\n",
    "                    content_disposition = str(part.get('Content-Disposition'))\n",
    "                    try:\n",
    "                        body = part.get_payload(decode = True).decode()\n",
    "                    except:\n",
    "                        pass\n",
    "\n",
    "                    if content_type == 'text/plain':\n",
    "                        body = decrypt(body, private_key)\n",
    "                        print(body)\n",
    "        \n",
    "        if printed != qtd and crip:\n",
    "            print()\n",
    "            crip = False"
   ]
  },
  {
   "cell_type": "code",
   "execution_count": 5,
   "id": "c1949e80",
   "metadata": {},
   "outputs": [],
   "source": [
    "if 'public.csv' not in glob('*.csv'):\n",
    "    public_key, private_key = generate_keys(p, q)\n",
    "    with open('public.csv', 'w') as file:\n",
    "        file.write(str(public_key[0]) + '\\n')\n",
    "        file.write(str(public_key[1]) + '\\n')\n",
    "        \n",
    "    with open('private.csv', 'w') as file:\n",
    "        file.write(str(private_key[0]) + '\\n')\n",
    "        file.write(str(private_key[1]) + '\\n')   \n",
    "else:\n",
    "    file = open('public.csv')\n",
    "    public_key = file.readlines()\n",
    "    file.close()\n",
    "    public_key = tuple([int(i) for i in public_key])\n",
    "    \n",
    "    file = open('private.csv')\n",
    "    private_key = file.readlines()\n",
    "    file.close()\n",
    "    private_key = tuple([int(i) for i in private_key])"
   ]
  },
  {
   "cell_type": "code",
   "execution_count": 6,
   "id": "d18b8210",
   "metadata": {},
   "outputs": [
    {
     "name": "stdout",
     "output_type": "stream",
     "text": [
      "Username: igorpmichels@gmail.com\n",
      "Password: ········\n"
     ]
    }
   ],
   "source": [
    "username = input('Username: ')\n",
    "password = getpass(prompt = 'Password: ')"
   ]
  },
  {
   "cell_type": "code",
   "execution_count": 7,
   "id": "a34d7111",
   "metadata": {
    "scrolled": false
   },
   "outputs": [
    {
     "name": "stdout",
     "output_type": "stream",
     "text": [
      "From: igorpmichels@gmail.com\n",
      "Subject: [Encrypted] Eclass fora do ar?\n",
      "\n",
      "O eclass ta fora do ar tbm? sei q zap, face e insta tão fora, mas tbm não consigo entrar no eclass. Como q vou estudar algebra? como q vou fazer a lista pra amanha?\n"
     ]
    }
   ],
   "source": [
    "read_email(username, password, private_key)"
   ]
  }
 ],
 "metadata": {
  "kernelspec": {
   "display_name": "Python 3 (ipykernel)",
   "language": "python",
   "name": "python3"
  },
  "language_info": {
   "codemirror_mode": {
    "name": "ipython",
    "version": 3
   },
   "file_extension": ".py",
   "mimetype": "text/x-python",
   "name": "python",
   "nbconvert_exporter": "python",
   "pygments_lexer": "ipython3",
   "version": "3.8.10"
  }
 },
 "nbformat": 4,
 "nbformat_minor": 5
}
